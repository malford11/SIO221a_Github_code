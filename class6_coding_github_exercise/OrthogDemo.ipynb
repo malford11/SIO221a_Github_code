{
 "cells": [
  {
   "cell_type": "code",
   "execution_count": 59,
   "id": "50b4de8a",
   "metadata": {},
   "outputs": [],
   "source": [
    "# Define a function which verifies whether two sine waves are orthogonal or not\n",
    "\n",
    "def OrthogDemo(n, m):    \n",
    "    \n",
    "    # Import required packages\n",
    "    import numpy as np\n",
    "    from scipy.integrate import quad\n",
    "    \n",
    "    # Define a linear time array of 100 values\n",
    "    t = np.arange(0, 1, 0.01)\n",
    "    \n",
    "    # Define waves 1 and 2 based on the inputs of the function\n",
    "    wave1 = np.sin(2*np.pi*n*t)\n",
    "    wave2 = np.sin(2*np.pi*m*t)\n",
    "    \n",
    "    # Multiply the waves together \n",
    "    product = wave1*wave2\n",
    "    \n",
    "    # Define a function to calculate the integral \n",
    "    def product_fcn(t):\n",
    "        return np.sin(2*np.pi*n*t)*np.sin(2*np.pi*m*t)\n",
    "\n",
    "    # Calculate the integral and error of the product \n",
    "    integral,err = quad(product_fcn,0,1)\n",
    "    \n",
    "    # Define an output class out and store the data in that\n",
    "    class output:\n",
    "        pass\n",
    "    \n",
    "    out = output()\n",
    "    \n",
    "    out.time = t\n",
    "    out.wave1 = wave1\n",
    "    out.wave2 = wave2\n",
    "    out.product = product\n",
    "    out.integral = integral\n",
    "    \n",
    "    return out\n"
   ]
  },
  {
   "cell_type": "code",
   "execution_count": null,
   "id": "b6ff87a9",
   "metadata": {},
   "outputs": [],
   "source": []
  }
 ],
 "metadata": {
  "kernelspec": {
   "display_name": "Python 3 (ipykernel)",
   "language": "python",
   "name": "python3"
  },
  "language_info": {
   "codemirror_mode": {
    "name": "ipython",
    "version": 3
   },
   "file_extension": ".py",
   "mimetype": "text/x-python",
   "name": "python",
   "nbconvert_exporter": "python",
   "pygments_lexer": "ipython3",
   "version": "3.9.7"
  }
 },
 "nbformat": 4,
 "nbformat_minor": 5
}
