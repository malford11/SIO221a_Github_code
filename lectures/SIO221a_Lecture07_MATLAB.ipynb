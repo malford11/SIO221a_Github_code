{
 "cells": [
  {
   "cell_type": "markdown",
   "metadata": {},
   "source": [
    "*SIO221a Notes - Alford and Gille*\n",
    "\n",
    "*Reading: Emory and Thompson section 5.4*\n",
    "\n",
    "Concepts Covered: Fourier transform: continuous and discrete\n"
   ]
  },
  {
   "cell_type": "markdown",
   "metadata": {},
   "source": [
    "## Lecture 7"
   ]
  },
  {
   "cell_type": "markdown",
   "metadata": {},
   "source": [
    "#### *Recap*\n",
    "\n",
    "Last time we looked at the least-squares fits and orthogonality\n",
    "of sines and cosines.  This will lead us to the Fourier transform,\n",
    "which provides a way to re-represent data in terms of amplitudes of\n",
    "orthogonal sets of sines and cosines.  \n"
   ]
  },
  {
   "cell_type": "markdown",
   "metadata": {},
   "source": [
    "#### The Fourier Transform\n",
    "\n",
    "We want to represent our data via sines and cosines:\n",
    "$$\n",
    "x(t) = \\frac{a_0}{2} + \\sum_{q=1}^{\\infty}\\left(a_q \\cos(2\\pi q f_1 t) +\n",
    "b_q \\sin(2\\pi q f_1 t)\\right), \\hspace{3cm} (8)\n",
    "$$\n",
    "\n",
    "where $f_q = 1/T_p$, and $T_p$ is the duration of the  record\n",
    "(following Bendat and Piersol).  Formally, and to ensure orthogonality, we should assume that the\n",
    "data are periodic over the period $T_p$.\n",
    "We find the coefficients $a$ and $b$ by projecting our data onto the\n",
    "appropriate sines and cosines:\n",
    "\n",
    "$$\n",
    "a_q = \\frac{2}{T_p} \\int_{0}^{T_p} x(t) \\cos(2\\pi q f_1 t)\\, dt \\hspace{3cm} (9)\n",
    "$$\n",
    "\n",
    "and\n",
    "\n",
    "$$\n",
    "b_q = \\frac{2}{T_p} \\int_0^{T_p} x(t) \\sin(2\\pi q f_1 t)\\, dt \\hspace{3cm} (10)\n",
    "$$\n",
    "\n",
    "solved for $q=0,1,2,....$\n",
    "\n",
    "It's not much fun to drag around these cosines and sines, so it's useful\n",
    "to recall that\n",
    "\n",
    "$$\n",
    "\\cos\\theta  = \\frac{\\exp(i\\theta)+\\exp(-i\\theta)}{2} \\hspace{3cm} (11)\\\\\n",
    "$$\n",
    "\n",
    "$$\n",
    "\\sin\\theta = \\frac{\\exp(i\\theta)-\\exp(-i\\theta)}{2i},  \\hspace{3cm} (12)\n",
    "$$\n",
    "\n",
    "which means that we could\n",
    "redo this in terms of $e^{i\\theta}$ and $e^{-i\\theta}$.\n",
    "In other words, we can represent our data as:\n",
    "\n",
    "$$\n",
    "x(t) = \\sum_{q=-\\infty}^{\\infty}\\left[\\hat{a}_q \\exp(i2\\pi q f_1 t)\\right] =\n",
    "\\sum_{q=-\\infty}^{\\infty}\\left[\\hat{a}_q \\exp(i\\sigma_q t)\\right] \\hspace{3cm} (13)\n",
    "$$\n",
    "\n",
    "where $\\sigma_q = 2\\pi q/T$, and $\\hat{a}_q$ represents a complex\n",
    "Fourier coefficient.\n",
    "If we solved for our coefficients for cosine and sine, then we can easily convert\n",
    "them to find the complex  coefficients $\\hat{a}_q$\n",
    "for $\\exp(i\\sigma_q t)$ and $\\exp(-i\\sigma_q t).$\n",
    "Consider:\n",
    "\n",
    "$$\n",
    "a\\cos\\theta + b\\sin\\theta  = \\frac{a}{2}(e^{i\\theta}+e^{-i\\theta})\n",
    "+ \\frac{b}{2i}(e^{i\\theta}-e^{-i\\theta}) \\hspace{3cm} (14)\\\\\n",
    "$$\n",
    "\n",
    "$$\n",
    "=  \\frac{a-ib}{2}e^{i\\theta}+ \\frac{a+ib}{2}e^{-i\\theta} \\hspace{3cm} (15).\n",
    "$$\n",
    "\n",
    "This tells us some important things.  The coefficients for $e^{i\\theta}$ and\n",
    "$e^{i\\theta}$ are complex conjugates.  And there's a simple relationship between\n",
    "the sine and cosine coefficients and the $e^{\\pm i\\theta}$ coefficients.\n",
    "Instead of computing $\\sum_{j=1}^N a_j \\cos(\\omega_j t)$ and\n",
    "$\\sum_{j=1}^N b_j \\sin(\\omega_j t)$, we can instead find\n",
    "$\\sum_{j=1}^N \\hat{a}_j \\exp(i\\omega_j t)$ and then use the real and imaginary\n",
    "parts to represent the cosine and sine components.  This gives us\n",
    "a quick shorthand for representing our results as sines and cosines.\n",
    "\n",
    "We can then simply take the limit as $N\\rightarrow\\infty$ to obtain the absolutely wonderful continuous Fourier transform:"
   ]
  },
  {
   "cell_type": "markdown",
   "metadata": {},
   "source": [
    "$$\n",
    "X(f) = \\int_{-\\infty}^{\\infty} x(t) e^{-i2\\pi f t}\\, dt \\hspace{3cm} (22)\\\\\n",
    "$$\n",
    "\n",
    "$$\n",
    "x(t) = \\int_{-\\infty}^{\\infty} X(f)  e^{i2\\pi ft}\\, df \\hspace{3cm} (23)\n",
    "$$\n"
   ]
  },
  {
   "cell_type": "markdown",
   "metadata": {},
   "source": [
    "We're using Bendat and Piersol's notation here.  You'll see a few other others in the literature; watch for $2\\pi$ and $\\sqrt{2\\pi}$. The same questions about choices of notation apply in the discrete form that we consider when we analyze data. As a result, we can get ourselves really confused about normalization. We can always get unconfused though: we don’t get to create energy.  That means that we need to have the same total variance in our data set in the time domain as we have in the frequency domain. This is Parseval’s theorem, and we’ll return to it.\n"
   ]
  },
  {
   "cell_type": "markdown",
   "metadata": {},
   "source": [
    "#### *Fourier transform in discrete form*\n",
    "\n",
    "As wonderful as the continuous form of the Fourier transform is, data come in discrete form and even the longest time series have finite length.  These will lead to some key concepts of signal processing that we'll get into soon. \n",
    "\n",
    "If they are uniformly separated (in time or space), then they\n",
    "are easy to Fourier transform. In fact, one of the glories of the Fourier transform is that we can take all of these\n",
    "projections and make them extremely efficient through the Fast Fourier\n",
    "Transform (FFT).  In principle, FFT's are most efficient if you\n",
    "compute them for records that are a power of 2 in length, so 64 or 128 or 256\n",
    "points for example.  But modern FFTs are fast even if your data set doesn't\n",
    "have $2^n$ elements. Moreover, a year doesn't have $2^n$ days, so trying to\n",
    "force a data record to conform to a length of $2^n$ can suppress some of the\n",
    "natural periodicity.\n",
    "\n",
    "Mathematically the Matlab definitions look like this:\n",
    "$$\n",
    "X_k = \\sum_{n=1}^N x_n \\exp(-i2\\pi (k-1) (n-1)/N),\n",
    "$$\n",
    "\n",
    "where frequency labels $k$ and data labels $n$ go from 1 to $N$.  Here\n",
    "capital letters are used to denote Fourier transformed variables.\n",
    "Matlab computes this using the command \"fft\".\n",
    "\n",
    "The inverse of the Fourier  transform is computed using \"ifft\"\n",
    "and is defined to be:\n",
    "\n",
    "$$\n",
    "x_n = \\frac{1}{N} \\sum_{k=1}^N X_k \\exp(i2\\pi (k-1)(n-1)/N)\n",
    "$$\n"
   ]
  },
  {
   "cell_type": "markdown",
   "metadata": {},
   "source": [
    "In Matlab the Fourier transform and inverse Fourier transform become:"
   ]
  },
  {
   "cell_type": "code",
   "execution_count": 15,
   "metadata": {},
   "outputs": [
    {
     "data": {
      "image/png": "[encoded data removed]",
      "text/plain": [
       "<IPython.core.display.Image object>"
      ]
     },
     "metadata": {},
     "output_type": "display_data"
    },
    {
     "data": {
      "image/png": "[encoded data removed]",
      "text/plain": [
       "<IPython.core.display.Image object>"
      ]
     },
     "metadata": {},
     "output_type": "display_data"
    }
   ],
   "source": [
    "%Let's make a signal plus some noise\n",
    "time=0:.04:10; %time in days\n",
    "P=12.4/24;\n",
    "x=randn(size(time))+sin(2*pi.*time ./ P);\n",
    "f=fft(x);\n",
    "x_new=ifft(f);\n",
    "plot(time,x,time,x_new)\n",
    "\n",
    "figure(2)\n",
    "%We can plot the Fourier coefficients too.\n",
    "plot(abs(f))\n",
    "%fftshift is useful here too."
   ]
  },
  {
   "cell_type": "markdown",
   "metadata": {},
   "source": [
    "We can already see some nice properties of this technique, even though we're just getting started.  First, note that the time series contained signal and noise, but it was hard to see which was which.  In frequency space the sine wave sticks out like a sore thumb, giving us hope for making sense of the data.\n",
    "\n",
    "Second, note that the Fourier coefficients are \"mirrored\" from left to right.  This turns out to be an important property of Fourier transforms: namely, that the negative coefficients are the complex conjugates of each other for real time series.  So we really only need to plot one half of the spectrum for real time series.  Later, we'll see what extra information the positive and negative coefficients have for complex time series such as the rotary velocity $w\\equiv u + iv$.\n",
    "\n",
    "Of course, in this example, we knew the frequency exactly, so we could have just\n",
    "done a least-squares fit, but often we aren't exactly sure of the frequencies\n",
    "in question---there might be energy spread over a broad range of frequencies,\n",
    "and the Fourier tranform provides us with a way to examine our data in terms\n",
    "of oscillatory signals."
   ]
  },
  {
   "cell_type": "markdown",
   "metadata": {},
   "source": [
    "In the next lecture we will prove Parseval's theorem, which states that we must have the same amount of variance in the time domain as in the frequency domain - ie, the transform preserves energy.  \n",
    "\n",
    "This is fundamentally important of course, but it's also of great practical use in sorting out the many different normalization conventions that we'll come across.  \n",
    "\n",
    "To make Parseval's theorem work, the variance of our data has to equal the variance of the Fourier transform.  Thus we'll want to compare:"
   ]
  },
  {
   "cell_type": "code",
   "execution_count": 13,
   "metadata": {
    "scrolled": true
   },
   "outputs": [
    {
     "name": "stdout",
     "output_type": "stream",
     "text": [
      "\n",
      "ans =\n",
      "\n",
      "   1.5822e+03\n",
      "\n",
      "\n",
      "ans =\n",
      "\n",
      "   1.5838e+06\n",
      "\n",
      "\n",
      "ans =\n",
      "\n",
      "   1.5838e+06\n",
      "\n"
     ]
    }
   ],
   "source": [
    "sum(x.^2)\n",
    "sum(abs(f).^2)\n",
    "f'*f;\n",
    "sum(f.*conj(f))"
   ]
  },
  {
   "cell_type": "markdown",
   "metadata": {},
   "source": [
    "They don't quite agree, so we'll see that we should divide the Fourier transform\n",
    "by $N$, the number of data points."
   ]
  },
  {
   "cell_type": "markdown",
   "metadata": {},
   "source": [
    "It's a good time to point out a couple of very useful Fourier transform pairs, and to begin wrapping our mainds around the idea that signals that are quite wide in time tend to be compact in frequency, and vice versa.  We'll formalize this later when we show that the autocorrelation is in fact the Fourier transform of the spectrum!  We can begin to think of this in terms of a single sine wave, which is a $\\delta$ function in frequency space but whose time series is of infinite extent.  More formally, a Gaussian in the time domain gives a Gaussian in the frequency domain (we won't show this here).  However, the width of the Gaussian in the time and frequency domains are inverses of each other, a sort of Heisenberg uncertainty principle for time series analysis that we'll talk about quite a bit as we move along.\n",
    "\n",
    "A practical consequence of this is that spikes in our data (time domain) can create quite widespread effects in the frequency domain.  So Alford's first rule of time series analysis is *never FFT anything that you have not looked at in the time domain first!*"
   ]
  },
  {
   "cell_type": "markdown",
   "metadata": {},
   "source": [
    "#### The Spectrum\n",
    "\n",
    "Today is the last day you don't know about the spectrum!\n",
    "\n",
    "Now that we have a time series $x(t)$ and its Fourier coefficients $X(f)$, we *define* the spectrum, or more precisely the power spectral density, as the amplitude of the coefficients at a given frequency, divided by the frequency resolution $\\Delta f = \\frac{1}{T}$ where $T$ is the time series length:\n",
    "\n",
    "$$\\Phi_x(f) \\equiv \\lim_{\\Delta f \\to 0}\\frac{\\langle X^*(f)X(f)\\rangle}{\\Delta f}$$\n",
    "\n",
    "And remember, we have gone to some trouble to ensure that $X(f)$ is normalized correctly so that energy is conserved.  Then in words, this means \"the energy in the time series between frequency $f$ and $f+\\Delta f$.\" Or, the *density* in frequency space of the energy. \n",
    "\n",
    "Though simple looking, there are a few aspects of this equation that will trouble us for the next few weeks: \n",
    "\n",
    "1. What does this actually mean?  \n",
    "2. What's up with those angle brackets?  What are we averaging over?\n",
    "3. How do we think of the $\\Delta f$ in the denominator?\n",
    "\n",
    "As stated, we can show that the autocorrelation and the spectrum are Fourier transform pairs as well.  The impact of this is that a noise-only time series, which has a delta-function autocorrelation function (it is uncorrelated with itself except at a lag of zero), has a \"white\" spectrum.  We often see this in data analysis; namely, that noise will be assumed to be white."
   ]
  }
 ],
 "metadata": {
  "kernelspec": {
   "display_name": "Matlab",
   "language": "matlab",
   "name": "matlab"
  },
  "language_info": {
   "codemirror_mode": "octave",
   "file_extension": ".m",
   "help_links": [
    {
     "text": "MetaKernel Magics",
     "url": "https://metakernel.readthedocs.io/en/latest/source/README.html"
    }
   ],
   "mimetype": "text/x-octave",
   "name": "matlab",
   "version": "0.17.1"
  }
 },
 "nbformat": 4,
 "nbformat_minor": 4
}
